{
 "cells": [
  {
   "cell_type": "markdown",
   "metadata": {},
   "source": [
    "It's not who has the best algorithm that wins.  It's who has the most data.\n"
   ]
  },
  {
   "cell_type": "markdown",
   "metadata": {},
   "source": [
    "데이터가 많으면 좋지만  Let's say  m = 100,000,000\n",
    "계산이 많아진다.\n",
    "\n",
    "그럼 많은 데이터가 항상 좋은가?\n",
    "\n",
    "\n",
    "Learning Curve 를 그렸을 때  high variance 라면 많은 데이터가 도움이 된다.\n",
    "high bias 라면 많은 데이터를 얻는 것이 도움이 안 된다. 그 대신 다른 피처를 추가해야한다."
   ]
  },
  {
   "cell_type": "markdown",
   "metadata": {},
   "source": [
    "## Batch gradient descent\n",
    "\n",
    "모든 데이터를 평가해서 기울기 벡터를 구한다."
   ]
  },
  {
   "cell_type": "markdown",
   "metadata": {},
   "source": [
    "## Stochastic gradient descent\n",
    "\n",
    "1. Randomly shuffle dataset.\n",
    "2. Repeat  {\n",
    "for i=1,...,m \n",
    "\n",
    "    for j\n",
    "        $\\theta_j := \\theta_j - \\alpha (h - y) x_j$\n",
    "}\n",
    "\n",
    "3. 2번 과정을 적당히 반복한다.\n",
    "\n",
    "\n",
    "스토캐스틱GD 에서는 하나의 데이터를 보고 기울기 방향을 정하기 때문에 Batch GD 보다 훨씬 빠르다."
   ]
  },
  {
   "cell_type": "markdown",
   "metadata": {},
   "source": [
    "## Mini-Batch Gradient\n",
    "\n",
    "어떨때는 SGD 보다 빠르다.  ( Vectorization -> sometimes  partially parralelize the proccess )\n",
    "\n",
    "Batch GD 는 : m 개의 데이터 사용\n",
    "SGD 는 1 개의 데이터 사용\n",
    "Mini-Bath GD 는 b 개의 데이터 사용,   b = 10   (2 ~ 100)\n",
    "\n",
    "for i =1, 11, 21,...\n",
    "\n"
   ]
  },
  {
   "cell_type": "markdown",
   "metadata": {},
   "source": [
    "### Checking for convergence\n",
    "\n"
   ]
  },
  {
   "cell_type": "markdown",
   "metadata": {},
   "source": [
    "BGD   \n",
    "\n",
    "Plot $J_{train}(\\theta)$  as a funciton of the number of iterations of GD\n",
    "\n",
    "SGD\n",
    "\n",
    "compute $cost(\\theta,(x^{(i)}, y^{(i)}))$\n",
    "\n",
    "Every 1000 iterations(say)  plot cost  averated over last 1000 examples processed by algorithm.\n",
    "\n"
   ]
  },
  {
   "cell_type": "markdown",
   "metadata": {},
   "source": [
    "그래프를 그러보고 learning rate 을 적당한 수치로 바꾼다.\n",
    "\n",
    "iteration 이 증가할 수록 learnin rate 을 작게 설정할 수도 있다.\n"
   ]
  },
  {
   "cell_type": "markdown",
   "metadata": {},
   "source": [
    "# Online Learning"
   ]
  },
  {
   "cell_type": "code",
   "execution_count": null,
   "metadata": {
    "collapsed": true
   },
   "outputs": [],
   "source": []
  }
 ],
 "metadata": {
  "kernelspec": {
   "display_name": "Python 3",
   "language": "python",
   "name": "python3"
  },
  "language_info": {
   "codemirror_mode": {
    "name": "ipython",
    "version": 3
   },
   "file_extension": ".py",
   "mimetype": "text/x-python",
   "name": "python",
   "nbconvert_exporter": "python",
   "pygments_lexer": "ipython3",
   "version": "3.6.1"
  }
 },
 "nbformat": 4,
 "nbformat_minor": 2
}
