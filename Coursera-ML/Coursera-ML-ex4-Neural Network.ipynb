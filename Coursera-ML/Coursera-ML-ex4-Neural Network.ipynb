{
 "cells": [
  {
   "cell_type": "code",
   "execution_count": 2,
   "metadata": {
    "collapsed": true
   },
   "outputs": [],
   "source": [
    "import numpy as np\n",
    "from numpy import log, sum\n",
    "import matplotlib.pyplot as plt\n",
    "%matplotlib inline"
   ]
  },
  {
   "cell_type": "code",
   "execution_count": 4,
   "metadata": {},
   "outputs": [],
   "source": [
    "def addOnes(X):    \n",
    "    m = X.shape[0]\n",
    "    ones = np.ones(m)\n",
    "    onesX = np.column_stack((ones, X))\n",
    "    return onesX\n",
    "\n",
    "def sigmoid(x):\n",
    "    return 1.0 / (1 + np.exp(-x))\n",
    "\n",
    "def sigmoidGradient(z):\n",
    "    return sigmoid(z) * (1 - sigmoid(z))\n",
    "\n",
    "def nnCostFunction(nn_params, input_layer_size, hidden_layer_size, num_lables, X, y, lambda_):\n",
    "    theta1 = nn_params[:(input_layer_size + 1) * hidden_layer_size].reshpe(hidden_layer_size, (input_layer_size + 1))\n",
    "    theta2 = nn_params[(input_layer_size + 1) * hidden_layer_size:].reshpe(num_lables, (hidden_layer_size + 1))\n",
    "    m = X.shape[0]\n",
    "    J = 0\n",
    "    \n",
    "    a1 = addOnes(X)\n",
    "    z2 = a1 @ theta1.T\n",
    "    a2 = sigmoid(z2)\n",
    "    z3 = a2 @ theta2.T\n",
    "    a3 = sigmoid(z3)\n",
    "    h_X = a3\n",
    "    \n",
    "    yVec = np.zeros((m, num_lables))\n",
    "    for i in range(m):\n",
    "        yVec[i, y[i]] = 1\n",
    "    \n",
    "    J =  (1.0/m) * sum(sum (-1 * yVec * log(h_X)  - (1 - yVec) * log(1-h_X)))\n",
    "    regularator = (lambda_/(2.0*m)) * (sum(sum(theta1[:,1:] ** 2)) + sum(sum(Theta2[:,1:] ** 2))) ;\n",
    "    J += regularator\n",
    "\n",
    "    delta_3 = a3 - yVec\n",
    "    delta_2 = (theta2.T @ delta_3) * sigmoidGradient(z2)\n",
    "        \n",
    "               "
   ]
  },
  {
   "cell_type": "code",
   "execution_count": 5,
   "metadata": {},
   "outputs": [
    {
     "data": {
      "text/plain": [
       "0.5"
      ]
     },
     "execution_count": 5,
     "metadata": {},
     "output_type": "execute_result"
    }
   ],
   "source": [
    "sigmoid(0)"
   ]
  },
  {
   "cell_type": "code",
   "execution_count": 6,
   "metadata": {},
   "outputs": [
    {
     "data": {
      "text/plain": [
       "array([ 0.19661193,  0.25      ,  0.19661193])"
      ]
     },
     "execution_count": 6,
     "metadata": {},
     "output_type": "execute_result"
    }
   ],
   "source": [
    "sigmoidGradient(np.array([-1,0,1]))"
   ]
  },
  {
   "cell_type": "code",
   "execution_count": 7,
   "metadata": {
    "scrolled": true
   },
   "outputs": [
    {
     "data": {
      "text/plain": [
       "[<matplotlib.lines.Line2D at 0x8191d68>,\n",
       " <matplotlib.lines.Line2D at 0x8191f28>]"
      ]
     },
     "execution_count": 7,
     "metadata": {},
     "output_type": "execute_result"
    },
    {
     "data": {
      "image/png": "[encoded data removed]",
      "text/plain": [
       "<matplotlib.figure.Figure at 0x7fd3f28>"
      ]
     },
     "metadata": {},
     "output_type": "display_data"
    }
   ],
   "source": [
    "x_lin = np.linspace(-10,10,200)\n",
    "\n",
    "plt.plot(x_lin, sigmoid(x_lin), x_lin, sigmoidGradient(x_lin))"
   ]
  },
  {
   "cell_type": "code",
   "execution_count": 8,
   "metadata": {
    "collapsed": true
   },
   "outputs": [],
   "source": [
    "class NN:\n",
    "    \n",
    "    def __init__(self, layers):\n",
    "        self.weights = []\n",
    "    # layers = [2,2,1]\n",
    "        for i in range(1, len(layers)):\n",
    "            r = 2*np.random.random((layers[i], layers[i - 1] + 1))\n",
    "            self.weights.append(r)\n",
    "        \n",
    "    def fit(self, X, y, learning_rate=0.2, epochs=3000):\n",
    "        X = addOnes(X)\n",
    "        \n",
    "        for k in range(epochs):\n",
    "            i = np.random.randint(X.shape[0])\n",
    "            a = [X[i]]\n",
    "            for l in range(len(self.weights)):\n",
    "                dot_value = self.weights[l] @ (np.hstack((1, a)))\n",
    "                activation = sigmoid(dot_value)\n",
    "                a.append(activation)\n",
    "            # output layer\n",
    "            error = y[i] - a[-1]\n",
    "            deltas = [error * sigmoidGradient(a[-1])]\n",
    "            \n",
    "            for l in range(len(a) - 2, 0, -1):\n",
    "                deltas.append(weights[l].T * sigmoidGradient(a[l]))\n",
    "            "
   ]
  },
  {
   "cell_type": "code",
   "execution_count": 9,
   "metadata": {},
   "outputs": [
    {
     "ename": "SyntaxError",
     "evalue": "invalid syntax (<ipython-input-9-09ae1a5e2d82>, line 16)",
     "output_type": "error",
     "traceback": [
      "\u001b[1;36m  File \u001b[1;32m\"<ipython-input-9-09ae1a5e2d82>\"\u001b[1;36m, line \u001b[1;32m16\u001b[0m\n\u001b[1;33m    for\u001b[0m\n\u001b[1;37m        ^\u001b[0m\n\u001b[1;31mSyntaxError\u001b[0m\u001b[1;31m:\u001b[0m invalid syntax\n"
     ]
    }
   ],
   "source": [
    "def initialize_network(n_inputs, n_hidden, n_outputs):\n",
    "    network = list()\n",
    "    theta1 = 0.1 * np.random.random((n_hidden, n_inputs + 1))\n",
    "    network.append(theta1)\n",
    "    theta2 = 0.1 * np.random.random((n_outputs, n_hidden + 1))\n",
    "    network.append(theta2)\n",
    "    return network\n",
    "\n",
    "def activate(weights, inputs):\n",
    "    pass\n",
    "\n",
    "def forward_propagate(network, row):\n",
    "    inputs = row\n",
    "    for layer in network:\n",
    "        new_inputs = []\n",
    "        for \n",
    "    "
   ]
  },
  {
   "cell_type": "code",
   "execution_count": 10,
   "metadata": {
    "collapsed": true
   },
   "outputs": [],
   "source": [
    "import numpy as np\n",
    "\n",
    "def sigmoid(x):\n",
    "    return 1.0/(1.0 + np.exp(-x))\n",
    "\n",
    "def sigmoid_prime(x):\n",
    "    return sigmoid(x)*(1.0-sigmoid(x))\n",
    "\n",
    "\n",
    "class NeuralNetwork:\n",
    "\n",
    "    def __init__(self, layers, weights=None):\n",
    "        \"\"\"\n",
    "        layers = [2,2,1]\n",
    "        \"\"\"\n",
    "        self.activation = sigmoid\n",
    "        self.activation_prime = sigmoid_prime\n",
    "        if not weights:\n",
    "            self.weights = []\n",
    "        #self.weights = [np.array([[1, 0.1, 0.1],[1, 0.1, 0.1]]),\n",
    "        #               np.array([[1, 0.1, 0.1],[1, 0.1, 0.1]])]\n",
    "            for i in range(1, len(layers)):\n",
    "                r = np.random.random((layers[i], layers[i - 1] + 1)) - 0.5\n",
    "                self.weights.append(r)\n",
    "        else:\n",
    "            self.weights = weights\n",
    "        print('weights', self.weights)\n",
    "\n",
    "    def fit(self, X, y, learning_rate=0.5, epochs=3000):\n",
    "\n",
    "         \n",
    "        for k in range(epochs):\n",
    "            i = np.random.randint(X.shape[0])\n",
    "            a = [X[i]]\n",
    "        \n",
    "            for l in range(len(self.weights)):\n",
    "                a_in = self.weights[l] @ np.insert(a[l],0,1)\n",
    "                activation = self.activation(a_in)\n",
    "                a.append(activation)\n",
    "            #print('a', a)\n",
    "\n",
    "            error = y[i] - a[-1]\n",
    "            #print('error',error)\n",
    "            outer_delta = self.activation_prime(a[-1]) * (-error)\n",
    "            deltas = [outer_delta]\n",
    "            for l in range(len(a) - 2, 0, -1):\n",
    "               # print(a[l].shape)\n",
    "               # print(self.weights[l].T.shape)\n",
    "               # print(deltas[len(a) - 2 - l].shape)\n",
    "                delta = np.insert(self.activation_prime(a[l]),0,1) * (self.weights[l].T @ deltas[len(a) - 2 - l])\n",
    "                delta = delta[1:]\n",
    "                deltas.append(delta)\n",
    "\n",
    "            # reverse\n",
    "            # [level3(output)->level2(hidden)]  => [level2(hidden)->level3(output)]\n",
    "            deltas = np.flip(deltas, axis=0)\n",
    "            #print('deltas', deltas)\n",
    "            # backpropagation\n",
    "            # 1. Multiply its output delta and input activation \n",
    "            #    to get the gradient of the weight.\n",
    "            # 2. Subtract a ratio (percentage) of the gradient from the weight.\n",
    "            \n",
    "            for i in range(len(self.weights)):\n",
    "                layer = np.atleast_2d(np.insert(a[i],0,1))\n",
    "                delta = np.atleast_2d(deltas[i])\n",
    "                #print(layer.T.shape)\n",
    "                #print(delta.shape)\n",
    "                #print(self.weights[i].shape)\n",
    "                self.weights[i] -= learning_rate * (delta.T @ layer)\n",
    "\n",
    "            #print('weigts', self.weights)\n",
    "\n",
    "    def predict(self, x): \n",
    "        a = x\n",
    "        for l in range(0, len(self.weights)):\n",
    "            a = np.insert(a, 0, 1)\n",
    "            a = self.activation(self.weights[l] @ a)\n",
    "        return a"
   ]
  },
  {
   "cell_type": "code",
   "execution_count": 16,
   "metadata": {},
   "outputs": [
    {
     "name": "stdout",
     "output_type": "stream",
     "text": [
      "weights [array([[-0.47170372, -0.39499153,  0.25275224]])]\n",
      "[ 0.03403878]\n",
      "[ 0.20134578]\n",
      "[ 0.2008464]\n",
      "[ 0.64260903]\n"
     ]
    }
   ],
   "source": [
    "nn = NeuralNetwork([2,1])\n",
    "X = np.array([[0,0],\n",
    "              [0,1],\n",
    "              [1,0],\n",
    "              [1,1]])\n",
    "y = np.array([0,0,0,1]).reshape((-1,1))\n",
    "\n",
    "nn.fit(X, y,learning_rate=0.02,epochs=10000)\n",
    "\n",
    "for i in range(len(X)):\n",
    "    print(nn.predict(X[i]))"
   ]
  },
  {
   "cell_type": "code",
   "execution_count": 12,
   "metadata": {},
   "outputs": [
    {
     "name": "stdout",
     "output_type": "stream",
     "text": [
      "weights [array([[-0.19517903,  0.30926319,  0.35154771],\n",
      "       [-0.26391903,  0.19896394, -0.06243876]]), array([[ 0.01235975, -0.04505517,  0.18647049],\n",
      "       [ 0.43150065,  0.27274992, -0.09220811]])]\n"
     ]
    }
   ],
   "source": [
    "nn = NeuralNetwork([2,2,2])\n",
    "X = np.array([[1,0]])\n",
    "y = np.array([[0, 1]])\n",
    "\n",
    "nn.fit(X, y,epochs=1)"
   ]
  },
  {
   "cell_type": "code",
   "execution_count": null,
   "metadata": {
    "collapsed": true
   },
   "outputs": [],
   "source": []
  }
 ],
 "metadata": {
  "kernelspec": {
   "display_name": "Python 3",
   "language": "python",
   "name": "python3"
  },
  "language_info": {
   "codemirror_mode": {
    "name": "ipython",
    "version": 3
   },
   "file_extension": ".py",
   "mimetype": "text/x-python",
   "name": "python",
   "nbconvert_exporter": "python",
   "pygments_lexer": "ipython3",
   "version": "3.6.1"
  }
 },
 "nbformat": 4,
 "nbformat_minor": 2
}
