{
 "cells": [
  {
   "cell_type": "code",
   "execution_count": 98,
   "metadata": {
    "collapsed": true
   },
   "outputs": [],
   "source": [
    "import numpy as np\n",
    "from numpy import log\n",
    "import matplotlib.pyplot as plt  \n",
    "\n",
    "import scipy.optimize as optimize\n",
    "from sklearn import linear_model\n",
    "from sklearn.model_selection import train_test_split\n",
    "import scipy.io\n",
    "import random\n",
    "from sklearn.preprocessing import PolynomialFeatures"
   ]
  },
  {
   "cell_type": "code",
   "execution_count": 99,
   "metadata": {
    "collapsed": true
   },
   "outputs": [],
   "source": [
    "def addOnes(X):\n",
    "    m = X.shape[0]\n",
    "    ones = np.ones(m)\n",
    "    onesX = np.column_stack((ones, X))\n",
    "    return onesX\n",
    "\n",
    "def sigmoid(x):\n",
    "    return 1.0 / (1 + np.exp(-x))\n",
    "\n",
    "def initTheta(n, option=0):\n",
    "    theta= np.zeros(n)\n",
    "    if option != 0:\n",
    "        theta = np.random.random(n)\n",
    "    return theta.reshape(-1,1)\n",
    "\n",
    "def computeCostLog(theta, X, y, lamda = 0.):\n",
    "    X = addOnes(X)\n",
    "    m = X.shape[0]\n",
    "    y = y.reshape(-1,1)\n",
    "    \n",
    "    theta = theta.reshape(-1,1)\n",
    "    theta0 = np.copy(theta); theta[0] = 0;\n",
    "    \n",
    "    h = sigmoid(X @ theta)\n",
    "    J =  - y.T @ log(h) - (1- y).T @ log(1-h) + (lamda / 2) * theta0.T @ theta0\n",
    "    J = J / (1.0 * m)\n",
    "    return J[0,0]\n",
    "\n",
    "def computeGradLog(theta, X, y, lamda = 0.):\n",
    "    X = addOnes(X)\n",
    "    m = X.shape[0]\n",
    "    y = y.reshape(-1,1)\n",
    "    \n",
    "    theta = theta.reshape(-1,1)\n",
    "    theta0 = np.copy(theta); theta[0] = 0;\n",
    "    \n",
    "    h = sigmoid(X @ theta)\n",
    "    grad =  (X.T @ (h - y)) + lamda * theta0\n",
    "    grad = grad / (1.0 * m)\n",
    "    grad = grad.ravel()\n",
    "    return grad\n",
    "\n",
    "def gradientDescentLog(X, y,lamda = 0., alpha = 0.01, numIter = 1500, seed = 0):\n",
    "    X = addOnes(X)\n",
    "    m = X.shape[0]\n",
    "    n = X.shape[1]\n",
    "    y = y.reshape(-1,1)\n",
    "    theta = initTheta(n, seed)\n",
    "    theta0 = np.copy(theta); theta[0] = 0;\n",
    "    \n",
    "    J = np.zeros(numIter)\n",
    "    for i in range(0, numIter):\n",
    "        h = sigmoid(X @ theta)\n",
    "        cost =  (1.0/m) * ((- y.T @ log(h) - (1- y).T @ log(1-h)) + (lamda / 2) * theta0.T @ theta0 )\n",
    "        J[i] = cost[0]\n",
    "\n",
    "        gradient =  (1.0/m) * ((X.T @ (h - y)) + lamda * theta0)\n",
    "        theta = theta - alpha * gradient\n",
    "    theta = theta.ravel()\n",
    "    return (theta, J[-1], J)\n",
    "\n",
    "def predict(theta, X):\n",
    "    X = addOnes(X)\n",
    "    h = sigmoid(X @ theta)\n",
    "    threshold = 0.5\n",
    "    predict = (h > threshold).astype(int)\n",
    "    return predict\n",
    "\n",
    "def accuracy(theta, X, y):\n",
    "    p = predict(theta, X)\n",
    "    compare = np.equal(p.reshape(1,-1),y.reshape(1,-1)).astype(int)\n",
    "    accuracy = np.mean(compare)\n",
    "    return accuracy\n",
    "    \n",
    "\n",
    "def plot2D(X, y):\n",
    "    pos = np.where(y == 1)\n",
    "    neg = np.where(y == 0)\n",
    "    plt.scatter(X[pos, 0], X[pos, 1], marker='+', c='b')\n",
    "    plt.scatter(X[neg, 0], X[neg, 1], marker='o', c='y')\n",
    "    plt.show()\n",
    "    \n",
    "def plot2DLog(theta, X, y):\n",
    "    pos = np.where(y == 1)\n",
    "    neg = np.where(y == 0)\n",
    "    plt.scatter(X[pos, 0], X[pos, 1], marker='+', c='b')\n",
    "    plt.scatter(X[neg, 0], X[neg, 1], marker='o', c='y')\n",
    "    x_lin = np.linspace(np.min(X[:,0]) , np.max(X[:,0]), 100)\n",
    "    plt.plot(x_lin, - (x_lin * theta[1] + theta[0])/theta[2])\n",
    "    plt.show()\n",
    "    \n",
    "def plotPolyMesh2DLog(X, y, p, C=1e5):\n",
    "    poly = PolynomialFeatures(p)\n",
    "    X_poly = poly.fit_transform(X)\n",
    "\n",
    "    logreg = linear_model.LogisticRegression(C=C)\n",
    "    logreg.fit(X_poly,y.ravel())\n",
    "\n",
    "    theta3 = np.append(logreg.intercept_, logreg.coef_)\n",
    "    \n",
    "    pts = 200\n",
    "    x_min, x_max = X[:, 0].min() - .5, X[:, 0].max() + .5\n",
    "    y_min, y_max = X[:, 1].min() - .5, X[:, 1].max() + .5\n",
    "    xx, yy = np.meshgrid(np.linspace(x_min, x_max, pts), np.linspace(y_min, y_max, pts))\n",
    "    Z = logreg.predict( poly.fit_transform(np.c_[xx.ravel(), yy.ravel()])[:,:]  )\n",
    "\n",
    "    # Put the result into a color plot\n",
    "    Z = Z.reshape(xx.shape)\n",
    "    plt.figure(1, figsize=(4, 4))\n",
    "    plt.pcolormesh(xx, yy, Z, cmap=plt.cm.Paired)\n",
    "\n",
    "    # Plot also the training points\n",
    "    plt.scatter(X[:, 0], X[:, 1], c=y, edgecolors='k', cmap=plt.cm.Paired)\n",
    "    plt.xlabel('1')\n",
    "    plt.ylabel('2')\n",
    "\n",
    "    plt.xlim(xx.min(), xx.max())\n",
    "    plt.ylim(yy.min(), yy.max())\n",
    "    plt.xticks(())\n",
    "    plt.yticks(())\n",
    "\n",
    "    plt.show()\n",
    "    \n",
    "def predictOneVsAll(all_theta, X):\n",
    "    m = X.shape[0]\n",
    "    num_labels = all_theta.shape[0]\n",
    "    X = addOnes(X)\n",
    "    predict = (X @ all_theta.T).argmax(1)\n",
    "    return predict\n",
    "\n",
    "def accuracyOneVsAll(all_theta, X, y):\n",
    "    p = predictOneVsAll(all_theta, X)\n",
    "    compare = np.equal(p.reshape(1,-1), y.reshape(1,-1)).astype(int)\n",
    "    accuracy = np.mean(compare)  \n",
    "    return accuracy"
   ]
  },
  {
   "cell_type": "code",
   "execution_count": 100,
   "metadata": {},
   "outputs": [
    {
     "name": "stdout",
     "output_type": "stream",
     "text": [
      "[[ 0.97540027]\n",
      " [ 0.52691154]\n",
      " [ 0.5257145 ]]\n"
     ]
    },
    {
     "data": {
      "image/png": "[encoded data removed]",
      "text/plain": [
       "<matplotlib.figure.Figure at 0x9ed4668>"
      ]
     },
     "metadata": {},
     "output_type": "display_data"
    },
    {
     "data": {
      "image/png": "[encoded data removed]",
      "text/plain": [
       "<matplotlib.figure.Figure at 0x9f09a20>"
      ]
     },
     "metadata": {},
     "output_type": "display_data"
    }
   ],
   "source": [
    "print(initTheta(3,2))\n",
    "\n",
    "X = np.array([[0,0],[0,1],[1,0],[1,1] ,[0.8,0] ])\n",
    "y = np.array([0,1,1,1,0])\n",
    "(theta, _, _) = gradientDescentLog(X, y, alpha=0.05,numIter= 5000, seed=42)\n",
    "plot2DLog(theta, X, y)\n",
    "plotPolyMesh2DLog(X, y, 6, 1e3)"
   ]
  },
  {
   "cell_type": "code",
   "execution_count": 101,
   "metadata": {},
   "outputs": [
    {
     "data": {
      "text/plain": [
       "[('X', (5000, 400), 'double'), ('y', (5000, 1), 'double')]"
      ]
     },
     "execution_count": 101,
     "metadata": {},
     "output_type": "execute_result"
    }
   ],
   "source": [
    "file = r'../data/ex3data1.mat'\n",
    "scipy.io.whosmat(file)    # inspect what kinds of data the file has"
   ]
  },
  {
   "cell_type": "code",
   "execution_count": 102,
   "metadata": {},
   "outputs": [
    {
     "name": "stdout",
     "output_type": "stream",
     "text": [
      "(5000, 400)\n",
      "(5000, 1)\n",
      "(5000, 400)\n"
     ]
    }
   ],
   "source": [
    "mat = scipy.io.loadmat(file)\n",
    "X = mat['X']; print(X.shape)\n",
    "y = mat['y']; print(y.shape)\n",
    "y = y - 1\n",
    "X_train = X\n",
    "y_train = y\n",
    "#X_train, X_test, y_train, y_test = train_test_split(X, y, test_size=0.9, random_state=42)\n",
    "print(X_train.shape)\n",
    "#y = y[:1000,:]"
   ]
  },
  {
   "cell_type": "code",
   "execution_count": 103,
   "metadata": {},
   "outputs": [
    {
     "name": "stdout",
     "output_type": "stream",
     "text": [
      "0\n"
     ]
    },
    {
     "name": "stderr",
     "output_type": "stream",
     "text": [
      "C:\\ProgramData\\Anaconda3\\lib\\site-packages\\ipykernel_launcher.py:54: RuntimeWarning: divide by zero encountered in log\n"
     ]
    },
    {
     "name": "stdout",
     "output_type": "stream",
     "text": [
      "1\n",
      "2\n",
      "3\n",
      "4\n",
      "5\n",
      "6\n",
      "7\n",
      "8\n",
      "9\n",
      "done\n",
      "(10, 401)\n"
     ]
    }
   ],
   "source": [
    "K = 10\n",
    "n = X_train.shape[1]\n",
    "\n",
    "theta_all = np.zeros((K, n + 1))\n",
    "for k in range(K):\n",
    "    print(k)\n",
    "    y_k = (y_train == k).astype('int')\n",
    "    #print(y_k)\n",
    "    #theta_k = optimize.fmin_l_bfgs_b(computeCostLog, initial_theta, args = (X_train, y_k),fprime=computeGradLog)[0]\n",
    "    #theta_k = optimize.fmin_bfgs(computeCostLog, initial_theta, args = (X_train, y_k),fprime=computeGradLog)[0]\n",
    "    (thetha_k, _, _) = gradientDescentLog(X, y, alpha=0.05, numIter=5000, seed =42)\n",
    "    theta_all[k] = theta_k\n",
    "    \n",
    "\n",
    "print(\"done\")\n",
    "\n",
    "file = 'theta_all_gd.txt'\n",
    "np.savetxt(file, theta_all, fmt='%f')\n",
    "print(theta_all.shape)"
   ]
  },
  {
   "cell_type": "code",
   "execution_count": null,
   "metadata": {},
   "outputs": [],
   "source": []
  },
  {
   "cell_type": "code",
   "execution_count": 104,
   "metadata": {},
   "outputs": [
    {
     "name": "stdout",
     "output_type": "stream",
     "text": [
      "0.1\n"
     ]
    }
   ],
   "source": [
    "theta_all = np.loadtxt(file, dtype=float)\n",
    "print(accuracyOneVsAll(theta_all, X_train, y_train))\n",
    "#print(accuracyOneVsAll(theta_all, X_test, y_test))"
   ]
  },
  {
   "cell_type": "code",
   "execution_count": null,
   "metadata": {
    "collapsed": true
   },
   "outputs": [],
   "source": []
  }
 ],
 "metadata": {
  "kernelspec": {
   "display_name": "Python 3",
   "language": "python",
   "name": "python3"
  },
  "language_info": {
   "codemirror_mode": {
    "name": "ipython",
    "version": 3
   },
   "file_extension": ".py",
   "mimetype": "text/x-python",
   "name": "python",
   "nbconvert_exporter": "python",
   "pygments_lexer": "ipython3",
   "version": "3.6.1"
  }
 },
 "nbformat": 4,
 "nbformat_minor": 2
}
