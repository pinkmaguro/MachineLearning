{
 "cells": [
  {
   "cell_type": "markdown",
   "metadata": {},
   "source": [
    "Word2Vec 는 문장의 단어를 벡터로 변화하는 도구 입니다.\n",
    "\n",
    "Gensim 은 Werd2Vec를 구현한 파이썬 라이브러리입니다.\n",
    "\n",
    "pip install gensim\n"
   ]
  },
  {
   "cell_type": "markdown",
   "metadata": {},
   "source": [
    "Corpuㄴ 도 필요합니다.\n",
    "\n",
    "위키피디아, 국립국어원 데이터에 공개되어 있는 텍스트 데이터를 많이 활용합니다.\n",
    "\n",
    "다음 URL 에 있는 것들도 참고해보세요.\n",
    "\n",
    "http://konlpy.org/ko/latest/references/#corpora\n",
    "\n"
   ]
  },
  {
   "cell_type": "markdown",
   "metadata": {},
   "source": [
    "### Gensim 의 Word2Vec 으로 토지를 읽어보기"
   ]
  },
  {
   "cell_type": "code",
   "execution_count": 2,
   "metadata": {
    "collapsed": true
   },
   "outputs": [],
   "source": [
    "import codecs\n",
    "from bs4 import BeautifulSoup\n",
    "from konlpy.tag import Twitter\n",
    "from gensim.models import word2vec"
   ]
  },
  {
   "cell_type": "markdown",
   "metadata": {},
   "source": [
    "필요한 whl 파일을 다운 받고 직접 인스톨 했다.\n",
    "\n",
    " python -m pip install whl파일명"
   ]
  },
  {
   "cell_type": "code",
   "execution_count": 3,
   "metadata": {
    "collapsed": true
   },
   "outputs": [],
   "source": [
    "import codecs\n",
    "from bs4 import BeautifulSoup\n",
    "from konlpy.tag import Twitter\n",
    "from gensim.models import word2vec"
   ]
  },
  {
   "cell_type": "code",
   "execution_count": 10,
   "metadata": {},
   "outputs": [
    {
     "name": "stdout",
     "output_type": "stream",
     "text": [
      "5382203\n"
     ]
    }
   ],
   "source": [
    "import os\n",
    "\n",
    "dirname = '../data/text/토지'\n",
    "files = os.listdir(dirname)\n",
    "\n",
    "text = \"\"\n",
    "for filename in files:\n",
    "    if filename.startswith('토지'):\n",
    "        fullname = os.path.join(dirname, filename)\n",
    "        fp = codecs.open(fullname, 'r', encoding='cp949', errors='ignore')\n",
    "        text += fp.read()\n",
    "print(len(text))        "
   ]
  },
  {
   "cell_type": "code",
   "execution_count": 16,
   "metadata": {},
   "outputs": [
    {
     "name": "stdout",
     "output_type": "stream",
     "text": [
      "ok\n"
     ]
    }
   ],
   "source": [
    "\n",
    "twitter = Twitter()\n",
    "results = []\n",
    "lines = text.split('\\n')\n",
    "for line in lines:\n",
    "    malist = twitter.pos(line, norm=True, stem=True)\n",
    "    r = []\n",
    "    for word in malist:\n",
    "        if not word[1] in ['Josa', 'Eomi', 'Punctuation']:\n",
    "            r.append(word[0])\n",
    "    rl = (' '.join(r)).strip()\n",
    "    results.append(rl)\n",
    "\n",
    "wakati_file = 'toji.wakati'\n",
    "with open(wakati_file, 'w', encoding='utf-8') as fp:\n",
    "    fp.write('\\n'.join(results))\n",
    "    \n",
    "data = word2vec.LineSentence(wakati_file)\n",
    "model = word2vec.Word2Vec(data, size=100, window=10, hs=1, min_count=2, sg=1)\n",
    "model.save('toji.model')\n",
    "print('ok')\n",
    "    \n",
    "\n",
    "        "
   ]
  },
  {
   "cell_type": "code",
   "execution_count": 17,
   "metadata": {},
   "outputs": [
    {
     "data": {
      "text/plain": [
       "[('나랏님', 0.8457980155944824),\n",
       " ('우중', 0.8009925484657288),\n",
       " ('쿠로', 0.7982668876647949),\n",
       " ('치우다', 0.7978565096855164),\n",
       " ('메', 0.7939143776893616),\n",
       " ('한산', 0.7927104234695435),\n",
       " ('참외', 0.7912659645080566),\n",
       " ('팔월', 0.7894967198371887),\n",
       " ('사시', 0.7889599800109863),\n",
       " ('망치다', 0.7889475226402283)]"
      ]
     },
     "execution_count": 17,
     "metadata": {},
     "output_type": "execute_result"
    }
   ],
   "source": [
    "model = word2vec.Word2Vec.load('toji.model')\n",
    "model.most_similar(positive=['땅'])"
   ]
  },
  {
   "cell_type": "code",
   "execution_count": 18,
   "metadata": {},
   "outputs": [
    {
     "data": {
      "text/plain": [
       "[('남정', 0.8413645029067993),\n",
       " ('돌아가다', 0.8047130107879639),\n",
       " ('저녁', 0.7917232513427734),\n",
       " ('메밀가루', 0.7810057401657104),\n",
       " ('며칠', 0.7809655666351318),\n",
       " ('구석', 0.7776042222976685),\n",
       " ('참견', 0.7775806784629822),\n",
       " ('기름', 0.7736319303512573),\n",
       " ('돼지', 0.7714501619338989),\n",
       " ('팽이', 0.7685133814811707)]"
      ]
     },
     "execution_count": 18,
     "metadata": {},
     "output_type": "execute_result"
    }
   ],
   "source": [
    "model.most_similar(positive=['집'])"
   ]
  },
  {
   "cell_type": "code",
   "execution_count": 29,
   "metadata": {},
   "outputs": [
    {
     "data": {
      "text/plain": [
       "[('한잔', 0.8274869322776794),\n",
       " ('들르다', 0.7834863066673279),\n",
       " ('손해', 0.7814699411392212),\n",
       " ('틀다', 0.7772457599639893),\n",
       " ('자아', 0.7732805013656616),\n",
       " ('주모', 0.7693314552307129),\n",
       " ('홀', 0.7693154811859131),\n",
       " ('포옹', 0.7688584327697754),\n",
       " ('건드리다', 0.768082320690155),\n",
       " ('주', 0.7674875259399414)]"
      ]
     },
     "execution_count": 29,
     "metadata": {},
     "output_type": "execute_result"
    }
   ],
   "source": [
    "data = model.most_similar(positive=['술'])\n",
    "data"
   ]
  },
  {
   "cell_type": "code",
   "execution_count": 38,
   "metadata": {},
   "outputs": [
    {
     "data": {
      "image/png": "[encoded data removed]",
      "text/plain": [
       "<matplotlib.figure.Figure at 0xd544390>"
      ]
     },
     "metadata": {},
     "output_type": "display_data"
    }
   ],
   "source": [
    "x = [e[0] for e in data]\n",
    "y = [e[1] for e in data]\n",
    "\n",
    "import numpy as np\n",
    "import matplotlib.pyplot as plt\n",
    "\n",
    "fig, ax = plt.subplots()\n",
    "index = np.arange(len(x))\n",
    "ax.bar(index, y)\n",
    "ax.set_xticks(index)\n",
    "ax.set_xticklabels(['한','글'])\n",
    "plt.show()"
   ]
  },
  {
   "cell_type": "code",
   "execution_count": 44,
   "metadata": {
    "collapsed": true
   },
   "outputs": [],
   "source": [
    "import matplotlib.font_manager as fm\n",
    "import matplotlib"
   ]
  },
  {
   "cell_type": "code",
   "execution_count": 45,
   "metadata": {},
   "outputs": [
    {
     "data": {
      "text/plain": [
       "[]"
      ]
     },
     "execution_count": 45,
     "metadata": {},
     "output_type": "execute_result"
    }
   ],
   "source": [
    "fm.get_fontconfig_fonts()"
   ]
  },
  {
   "cell_type": "code",
   "execution_count": 46,
   "metadata": {},
   "outputs": [],
   "source": [
    "font_location = \"C:\\Windows\\Fonts\\MALGUN.TTF\"\n",
    "font_name = fm.FontProperties(fname=font_location).get_name()\n",
    "matplotlib.rc('font', family=font_name)"
   ]
  },
  {
   "cell_type": "code",
   "execution_count": 47,
   "metadata": {},
   "outputs": [
    {
     "data": {
      "image/png": "[encoded data removed]",
      "text/plain": [
       "<matplotlib.figure.Figure at 0xd417eb8>"
      ]
     },
     "metadata": {},
     "output_type": "display_data"
    }
   ],
   "source": [
    "fig, ax = plt.subplots()\n",
    "index = np.arange(len(x))\n",
    "ax.bar(index, y)\n",
    "ax.set_xticks(index)\n",
    "ax.set_xticklabels(['한','글'])\n",
    "plt.show()"
   ]
  },
  {
   "cell_type": "markdown",
   "metadata": {},
   "source": [
    "#### 폰트 패밀리 확인"
   ]
  },
  {
   "cell_type": "code",
   "execution_count": 48,
   "metadata": {},
   "outputs": [
    {
     "data": {
      "text/plain": [
       "['Malgun Gothic']"
      ]
     },
     "execution_count": 48,
     "metadata": {},
     "output_type": "execute_result"
    }
   ],
   "source": [
    "matplotlib.rcParams[\"font.family\"]"
   ]
  },
  {
   "cell_type": "markdown",
   "metadata": {},
   "source": [
    "####  설정 파일 수정\n",
    "\n",
    "https://ansuchan.com/matplotlib-with-korean/\n",
    "\n",
    "matplotlibrc  파일\n",
    "font.family         : NanumBarunGothicOTF  "
   ]
  },
  {
   "cell_type": "code",
   "execution_count": 52,
   "metadata": {
    "scrolled": true
   },
   "outputs": [
    {
     "name": "stderr",
     "output_type": "stream",
     "text": [
      "C:\\ProgramData\\Anaconda3\\lib\\site-packages\\matplotlib\\mathtext.py:866: MathTextWarning: Font 'default' does not have a glyph for '-' [U+2212]\n",
      "  MathTextWarning)\n",
      "C:\\ProgramData\\Anaconda3\\lib\\site-packages\\matplotlib\\mathtext.py:867: MathTextWarning: Substituting with a dummy symbol.\n",
      "  warn(\"Substituting with a dummy symbol.\", MathTextWarning)\n"
     ]
    },
    {
     "data": {
      "image/png": "[encoded data removed]",
      "text/plain": [
       "<matplotlib.figure.Figure at 0x1869c7f0>"
      ]
     },
     "metadata": {},
     "output_type": "display_data"
    }
   ],
   "source": [
    "fig, ax = plt.subplots()\n",
    "index = np.arange(len(x))\n",
    "ax.barh(index, y)\n",
    "ax.set_yticks(index)\n",
    "ax.set_yticklabels(x)\n",
    "ax.set_xscale(\"log\")\n",
    "plt.show()"
   ]
  },
  {
   "cell_type": "markdown",
   "metadata": {},
   "source": [
    "### 위키피디아 한국어 버전을 사전으로 사용해보기\n",
    "\n",
    "https://dumps.wikimedia.org/kowiki/latest/\n",
    "\n",
    "kowiki-latest-pages-articles.xml.bz2\n"
   ]
  },
  {
   "cell_type": "markdown",
   "metadata": {},
   "source": [
    "루비로 만든 wp2txt 라는 도구 사용.  위키피디아 전체 데이터(XML)를 텍스트로 변환해줌\n",
    "\n",
    "Docker 환경에서 wp2txt 를 사용하려면 Ruby 2.0 을 설치 해야함\n",
    "\n"
   ]
  }
 ],
 "metadata": {
  "kernelspec": {
   "display_name": "Python 3",
   "language": "python",
   "name": "python3"
  },
  "language_info": {
   "codemirror_mode": {
    "name": "ipython",
    "version": 3
   },
   "file_extension": ".py",
   "mimetype": "text/x-python",
   "name": "python",
   "nbconvert_exporter": "python",
   "pygments_lexer": "ipython3",
   "version": "3.6.1"
  }
 },
 "nbformat": 4,
 "nbformat_minor": 2
}
