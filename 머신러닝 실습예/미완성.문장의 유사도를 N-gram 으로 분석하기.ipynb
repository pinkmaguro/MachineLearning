{
 "cells": [
  {
   "cell_type": "markdown",
   "metadata": {},
   "source": [
    "### 파이썬으로 레벤슈타인 거리를 계산하는 프로그램"
   ]
  },
  {
   "cell_type": "code",
   "execution_count": null,
   "metadata": {
    "collapsed": true
   },
   "outputs": [],
   "source": [
    "def calc_distance(a, b):\n",
    "    \"\"\" 레벤슈타인 거리 계산하기\"\"\"\n",
    "    if a == b: return 0\n",
    "    a_len = len(a)\n",
    "    b_len = len(b)\n",
    "    if a == \"\": return b_len\n",
    "    if b == \"\": return a_len\n",
    "    \n",
    "    matrix = [[] for i in range(a_len+1)]\n",
    "    for i in range(a_len+1):\n",
    "        matrix[i] = [0 for j in range(b_len+1)]\n",
    "    for i in range(a_len+1):\n",
    "        matrix[i][0] = i\n",
    "    for j in range(b_len+1):\n",
    "        matrix[j][0]\n",
    "    \n",
    "    for i in range(1, a_len+1):\n",
    "        ac = a[i-1]\n",
    "        "
   ]
  }
 ],
 "metadata": {
  "kernelspec": {
   "display_name": "Python 3",
   "language": "python",
   "name": "python3"
  },
  "language_info": {
   "codemirror_mode": {
    "name": "ipython",
    "version": 3
   },
   "file_extension": ".py",
   "mimetype": "text/x-python",
   "name": "python",
   "nbconvert_exporter": "python",
   "pygments_lexer": "ipython3",
   "version": "3.6.1"
  }
 },
 "nbformat": 4,
 "nbformat_minor": 2
}
