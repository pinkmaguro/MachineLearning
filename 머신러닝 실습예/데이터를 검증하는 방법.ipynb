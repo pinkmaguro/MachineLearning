{
 "cells": [
  {
   "cell_type": "markdown",
   "metadata": {},
   "source": [
    "크로스 밸리데이션 방법 중에서 K 분할 교차 검증 (K-fold cross validation)\n",
    "\n",
    "1. 집합 X를 A, B, C로 분할합니다.\n",
    "2. A를 테스트 데이터, B,C 를 훈련데이터로 사용해서 분류 정밀도 s1을 구합니다.\n",
    "3. B를 테스트 데이터, A,C 를 훈련데이터로 사용해서 분류 정밀도 s2을 구합니다.\n",
    "4. C를 테스트 데이터, A,B 를 훈련데이터로 사용해서 분류 정밀도 s3을 구합니다.\n",
    "5. 분류 정밀도 s1, s2, s3 의 평균을 구해 최종적인 분류 정밀도를 구합니다."
   ]
  },
  {
   "cell_type": "markdown",
   "metadata": {},
   "source": [
    "### skikit-learn 의 크로스 밸리데이션 사용해보기"
   ]
  },
  {
   "cell_type": "code",
   "execution_count": 2,
   "metadata": {
    "collapsed": true
   },
   "outputs": [],
   "source": [
    "import pandas as pd\n",
    "from sklearn import svm, metrics, model_selection\n",
    "import random,re\n",
    "from sklearn import datasets"
   ]
  },
  {
   "cell_type": "code",
   "execution_count": 5,
   "metadata": {},
   "outputs": [
    {
     "name": "stdout",
     "output_type": "stream",
     "text": [
      "<class 'numpy.ndarray'>\n",
      "<class 'numpy.ndarray'>\n"
     ]
    }
   ],
   "source": [
    "iris = datasets.load_iris()\n",
    "data = iris.data\n",
    "label = iris.target\n",
    "\n",
    "print(type(data))\n",
    "print(type(label))"
   ]
  },
  {
   "cell_type": "code",
   "execution_count": 6,
   "metadata": {},
   "outputs": [
    {
     "name": "stdout",
     "output_type": "stream",
     "text": [
      "각각의 정답률 =  [ 0.96666667  1.          0.96666667  0.96666667  1.        ]\n"
     ]
    }
   ],
   "source": [
    "clf = svm.SVC()\n",
    "scores = model_selection.cross_val_score(clf, data, label, cv=5)\n",
    "print('각각의 정답률 = ', scores)"
   ]
  },
  {
   "cell_type": "markdown",
   "metadata": {},
   "source": [
    "### 그리드 서치\n",
    "\n",
    "매개변수 튜닝"
   ]
  },
  {
   "cell_type": "code",
   "execution_count": 8,
   "metadata": {},
   "outputs": [
    {
     "name": "stdout",
     "output_type": "stream",
     "text": [
      "학습 데이터의 수 = 1000\n",
      "학습기 = SVC(C=1, cache_size=200, class_weight=None, coef0=0.0,\n",
      "  decision_function_shape=None, degree=3, gamma='auto', kernel='linear',\n",
      "  max_iter=-1, probability=False, random_state=None, shrinking=True,\n",
      "  tol=0.001, verbose=False)\n",
      "정답률= 0.866\n"
     ]
    }
   ],
   "source": [
    "import pandas as pd\n",
    "from sklearn import model_selection, svm, metrics\n",
    "from sklearn.grid_search import GridSearchCV\n",
    "\n",
    "train_csv = pd.read_csv('../data/mnist/train.csv')\n",
    "test_csv = pd.read_csv('../data/mnist/t10k.csv')\n",
    "\n",
    "train_label = train_csv.iloc[:,0]\n",
    "train_data = train_csv.iloc[:,1:577]\n",
    "test_label = test_csv.iloc[:,0]\n",
    "test_data = test_csv.iloc[:,1:577]\n",
    "print('학습 데이터의 수 =', len(train_label))\n",
    "\n",
    "params = [\n",
    "    {\"C\":[1,10,100,1000], \"kernel\":[\"linear\"]},\n",
    "    {\"C\":[1,10,100,1000], \"kernel\":[\"rbf\"], \"gamma\":[0.001, 0.0001]}\n",
    "]\n",
    "\n",
    "# 그리드 서치 수행\n",
    "clf = GridSearchCV( svm.SVC(), params, n_jobs=-1)\n",
    "clf.fit(train_data, train_label)\n",
    "print('학습기 =', clf.best_estimator_)\n",
    "\n",
    "predict = clf.predict(test_data)\n",
    "ac_score = metrics.accuracy_score(predict, test_label)\n",
    "print('정답률=', ac_score)"
   ]
  },
  {
   "cell_type": "markdown",
   "metadata": {},
   "source": [
    "이전의 9.786에 비해ㅓ 0.866 으로 정답률이 개선됐습니다.\n",
    "n_jobs - 병렬 계산할 프로세스 수를 지정."
   ]
  },
  {
   "cell_type": "code",
   "execution_count": null,
   "metadata": {
    "collapsed": true
   },
   "outputs": [],
   "source": []
  }
 ],
 "metadata": {
  "kernelspec": {
   "display_name": "Python 3",
   "language": "python",
   "name": "python3"
  },
  "language_info": {
   "codemirror_mode": {
    "name": "ipython",
    "version": 3
   },
   "file_extension": ".py",
   "mimetype": "text/x-python",
   "name": "python",
   "nbconvert_exporter": "python",
   "pygments_lexer": "ipython3",
   "version": "3.6.1"
  }
 },
 "nbformat": 4,
 "nbformat_minor": 2
}
