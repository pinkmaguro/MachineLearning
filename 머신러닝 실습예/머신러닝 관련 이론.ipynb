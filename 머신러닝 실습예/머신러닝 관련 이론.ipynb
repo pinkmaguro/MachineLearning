{
 "cells": [
  {
   "cell_type": "markdown",
   "metadata": {},
   "source": [
    "### 1.5 머신러닝 과정"
   ]
  },
  {
   "cell_type": "markdown",
   "metadata": {},
   "source": [
    "- 데이터 모으기와 준비과정\n",
    "- 피처 선택\n",
    "- 알고리즘 고르기\n",
    "- 파라미터와 모델 선택\n",
    "- 트레이닝\n",
    "- 평가\n"
   ]
  },
  {
   "cell_type": "markdown",
   "metadata": {},
   "source": [
    "### 2.1.2 차원의 저주"
   ]
  },
  {
   "cell_type": "markdown",
   "metadata": {},
   "source": [
    "차원이 증가함에 따라 초구(hpypersphere)의 부피가 줄어든다.\n",
    "\n",
    "초구를 감싸는 초정육면체?  의 부피는 1 이니까 차원이 늘어나면 초구 구성 단위의 용적 대비 구의 부피는 줄어든다.\n",
    "\n",
    "차원의 크기가 커지면 머신러닝 알고리즘을 일반화 시키는데 많은 데이터가 필요하게 된다."
   ]
  },
  {
   "cell_type": "markdown",
   "metadata": {},
   "source": [
    "### 2.2.4 정확도 지표"
   ]
  },
  {
   "cell_type": "markdown",
   "metadata": {},
   "source": [
    "https://en.wikipedia.org/wiki/Precision_and_recall\n",
    "\n",
    "Accuracy, 정확도 = 전체의 분류 중에서 참을 참으로 거짓을 거짓으로 판별한 비율\n",
    "Precision, 정밀도 = Positive 로 판별한 것 중에서 얼마나 True Positive 가 있으냐\n",
    "Recall, 재현율 = True 인 것 중에서 얼마나 True Positive 가 있느냐\n"
   ]
  },
  {
   "cell_type": "markdown",
   "metadata": {},
   "source": [
    "$\\displaystyle F=2\\cdot {\\frac {\\mathrm {precision} \\cdot \\mathrm {recall} }{\\mathrm {precision} +\\mathrm {recall} }}$"
   ]
  },
  {
   "cell_type": "markdown",
   "metadata": {},
   "source": [
    "재현율을 높이자고 Positive 판별을 많이하면 FP 수치가 높아져서 정밀도가 떨어진다.\n",
    "\n",
    "정밀도는 높이자고 Positive 판별을 엄격하게 할 수록 TP 수치가 낮아져서 정밀도가 떨어진다.\n",
    "\n",
    "이럴때는 F 값을 높이는 전략을 선택한다.\n"
   ]
  },
  {
   "cell_type": "markdown",
   "metadata": {},
   "source": [
    "### ROC 곡선 (Receiver Operator Characteristic Curve)"
   ]
  },
  {
   "cell_type": "markdown",
   "metadata": {},
   "source": [
    "https://en.wikipedia.org/wiki/Receiver_operating_characteristic\n",
    "\n"
   ]
  }
 ],
 "metadata": {
  "kernelspec": {
   "display_name": "Python 3",
   "language": "python",
   "name": "python3"
  },
  "language_info": {
   "codemirror_mode": {
    "name": "ipython",
    "version": 3
   },
   "file_extension": ".py",
   "mimetype": "text/x-python",
   "name": "python",
   "nbconvert_exporter": "python",
   "pygments_lexer": "ipython3",
   "version": "3.6.1"
  }
 },
 "nbformat": 4,
 "nbformat_minor": 2
}
