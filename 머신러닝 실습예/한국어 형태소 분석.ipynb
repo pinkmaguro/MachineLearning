{
 "cells": [
  {
   "cell_type": "markdown",
   "metadata": {},
   "source": [
    "한국어 형태소 분석 라이브러리\n",
    "KoNLPy\n",
    "http://konlpy.org/ko/latest/\n",
    "\n",
    "KoNLPy를 이용하면 한나눔, 꼬꼬마, Komoran, MeCab, 트위터 등의 형태소 분석기를 쉽게 사용할 수 있습니다.\n",
    "\n"
   ]
  },
  {
   "cell_type": "markdown",
   "metadata": {},
   "source": [
    "자바 등등 설치\n",
    "\n",
    "apt-get install g++ openjdk-7-jdk python-dev python3-dev\n",
    "\n",
    "KoNLPy 설치\n",
    "\n",
    "pip install konlpy\n",
    "\n",
    "pip install jpype1\n",
    "\n",
    "\n"
   ]
  },
  {
   "cell_type": "code",
   "execution_count": 8,
   "metadata": {
    "scrolled": true
   },
   "outputs": [
    {
     "name": "stdout",
     "output_type": "stream",
     "text": [
      "[('아빠', 'Noun'), ('가방', 'Noun'), ('에', 'Josa'), ('들어가시', 'Verb'), ('다', 'Eomi'), ('ㅋㅋ', 'KoreanParticle'), ('.', 'Punctuation')]\n"
     ]
    }
   ],
   "source": [
    "from konlpy.tag import Twitter\n",
    "twitter = Twitter()\n",
    "malist = twitter.pos('아빠 가방에들어가시다ㅋㅋ.', norm=True, stem=True)\n",
    "print(malist)"
   ]
  },
  {
   "cell_type": "markdown",
   "metadata": {
    "collapsed": true
   },
   "source": [
    "http://ithub.korean.go.kr/user/total/database/corpusManager.do\n",
    "\n",
    "토지 다운로드 안됨"
   ]
  },
  {
   "cell_type": "code",
   "execution_count": 3,
   "metadata": {
    "collapsed": true
   },
   "outputs": [],
   "source": [
    "import codecs\n",
    "from bs4 import BeautifulSoup\n",
    "from konlpy.tag import Twitter"
   ]
  },
  {
   "cell_type": "code",
   "execution_count": 4,
   "metadata": {},
   "outputs": [
    {
     "name": "stdout",
     "output_type": "stream",
     "text": [
      "것(990) 그(801) 말(655) 안(431) 용이(345) 평산(321) 사람(317) 눈(316) 내(289) 놈(285) 소리(274) 길(272) 얼굴(256) 일(246) 거(237) 못(236) 치수(229) 이(226) 와(224) 수(224) 나(221) 댁(219) 때(211) 일이(207) 강청댁(200) 만(187) 제(186) 서방(182) 머(180) 최(173) 년(172) 집(166) 더(165) 어디(165) 생각(164) 강(157) 마을(150) 믄(149) 날(146) 양반(140) 니(139) 칠성(138) 포수(137) 김(135) 뒤(134) 임(133) 봉순(131) 아이(130) 귀녀(130) 서희(130) \n"
     ]
    }
   ],
   "source": [
    "fp = codecs.open('../data/text/토지/토지1부1권.txt', 'r', encoding='cp949', errors='ignore')\n",
    "#soup = BeautifulSoup(fp, 'html.parser')\n",
    "#body = soup.select_one(\"body > text\")\n",
    "text = fp.read()\n",
    "\n",
    "twitter = Twitter()\n",
    "word_dic = {}\n",
    "\n",
    "lines = text.split('\\n')\n",
    "for line in lines:\n",
    "    malist = twitter.pos(line)\n",
    "    for word in malist:\n",
    "        if word[1] == 'Noun':\n",
    "            if not (word[0] in word_dic):\n",
    "                word_dic[word[0]] = 0\n",
    "            word_dic[word[0]] += 1\n",
    "            \n",
    "keys = sorted(word_dic.items(), key=lambda x:x[1], reverse=True)            \n",
    "for word, count in keys[:50]:\n",
    "    print('{0}({1}) '.format(word, count), end=\"\")\n",
    "print()\n",
    "    "
   ]
  },
  {
   "cell_type": "code",
   "execution_count": 27,
   "metadata": {
    "scrolled": true
   },
   "outputs": [
    {
     "data": {
      "text/plain": [
       "'123ABC한글'"
      ]
     },
     "execution_count": 27,
     "metadata": {},
     "output_type": "execute_result"
    }
   ],
   "source": [
    "fp = codecs.open('../data/text/토지/111.txt', 'r', encoding='cp949')\n",
    "fp.read()"
   ]
  },
  {
   "cell_type": "code",
   "execution_count": 1,
   "metadata": {
    "collapsed": true
   },
   "outputs": [],
   "source": [
    "\n",
    "from konlpy.tag import Kkma"
   ]
  },
  {
   "cell_type": "markdown",
   "metadata": {},
   "source": [
    "http://daewonyoon.tistory.com/200"
   ]
  }
 ],
 "metadata": {
  "kernelspec": {
   "display_name": "Python 3",
   "language": "python",
   "name": "python3"
  },
  "language_info": {
   "codemirror_mode": {
    "name": "ipython",
    "version": 3
   },
   "file_extension": ".py",
   "mimetype": "text/x-python",
   "name": "python",
   "nbconvert_exporter": "python",
   "pygments_lexer": "ipython3",
   "version": "3.6.1"
  }
 },
 "nbformat": 4,
 "nbformat_minor": 2
}
