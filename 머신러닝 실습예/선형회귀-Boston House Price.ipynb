{
 "cells": [
  {
   "cell_type": "markdown",
   "metadata": {},
   "source": [
    "### 보스톤 집 가격\n",
    "\n",
    "사이킷런 모듈에서 제공하는 여러개의 데이터셋 중에서 선형회귀로 사용할 수 있는 보스톤 집 가격 데이터가 있습니다.\n",
    "\n"
   ]
  },
  {
   "cell_type": "code",
   "execution_count": 1,
   "metadata": {
    "collapsed": true
   },
   "outputs": [],
   "source": [
    "# 데이터 로딩\n",
    "from sklearn.datasets import load_boston\n",
    "boston = load_boston()"
   ]
  },
  {
   "cell_type": "code",
   "execution_count": 4,
   "metadata": {},
   "outputs": [
    {
     "data": {
      "text/plain": [
       "array(['CRIM', 'ZN', 'INDUS', 'CHAS', 'NOX', 'RM', 'AGE', 'DIS', 'RAD',\n",
       "       'TAX', 'PTRATIO', 'B', 'LSTAT'], \n",
       "      dtype='<U7')"
      ]
     },
     "execution_count": 4,
     "metadata": {},
     "output_type": "execute_result"
    }
   ],
   "source": [
    "# 에이터 피처 이름 확인\n",
    "boston.feature_names"
   ]
  },
  {
   "cell_type": "markdown",
   "metadata": {},
   "source": [
    "### 피처 선택\n",
    "\n",
    "간단한 실습을 위해서 여러개의 피처 중에서 6 번쨰 피처인 주거지의 평균 방 갯수 하나를 선택해서 회귀를 실습해보겠습니다."
   ]
  },
  {
   "cell_type": "code",
   "execution_count": 5,
   "metadata": {
    "collapsed": true
   },
   "outputs": [],
   "source": [
    "x = boston.data[:,5]"
   ]
  },
  {
   "cell_type": "code",
   "execution_count": 8,
   "metadata": {},
   "outputs": [
    {
     "name": "stdout",
     "output_type": "stream",
     "text": [
      "데이터 살펴보기\n"
     ]
    },
    {
     "data": {
      "text/plain": [
       "array([ 6.575,  6.421,  7.185,  6.998,  7.147,  6.43 ,  6.012,  6.172,\n",
       "        5.631,  6.004])"
      ]
     },
     "execution_count": 8,
     "metadata": {},
     "output_type": "execute_result"
    }
   ],
   "source": [
    "print('데이터 살펴보기')\n",
    "x[:10]"
   ]
  },
  {
   "cell_type": "code",
   "execution_count": 9,
   "metadata": {},
   "outputs": [
    {
     "name": "stdout",
     "output_type": "stream",
     "text": [
      "데이터 크기 :  506 506\n"
     ]
    }
   ],
   "source": [
    "print('데이터 크기 : ', len(x), len(boston.target))\n"
   ]
  },
  {
   "cell_type": "markdown",
   "metadata": {},
   "source": [
    "### 데이터 시각화"
   ]
  },
  {
   "cell_type": "code",
   "execution_count": 10,
   "metadata": {},
   "outputs": [
    {
     "data": {
      "image/png": "[encoded data removed]",
      "text/plain": [
       "<matplotlib.figure.Figure at 0x8778a20>"
      ]
     },
     "metadata": {},
     "output_type": "display_data"
    }
   ],
   "source": [
    "import matplotlib.pyplot as plt\n",
    "\n",
    "plt.scatter(x, boston.target, color='r', alpha=0.3)\n",
    "plt.show()"
   ]
  },
  {
   "cell_type": "markdown",
   "metadata": {},
   "source": [
    "## 선형회귀\n",
    "\n",
    "sklearn.linear_model 에 있는 LinearRegression 클래스르 사용해서 선형회귀를 하겠습니다."
   ]
  },
  {
   "cell_type": "code",
   "execution_count": 16,
   "metadata": {},
   "outputs": [],
   "source": [
    "from sklearn.linear_model import LinearRegression\n",
    "import numpy as np\n",
    "lr = LinearRegression()\n",
    "\n",
    "x = boston.data[:,5]\n",
    "y = boston.target\n",
    "\n",
    "# print(x.shape, y.shape)\n",
    "\n",
    "x = x.reshape(-1,1)# x = np.transpose(np.atleast_2d(x))\n",
    "lr.fit(x, y)\n",
    "y_predicted = lr.predict(x)"
   ]
  },
  {
   "cell_type": "markdown",
   "metadata": {},
   "source": [
    "## 회귀 결과 시각화\n",
    "\n",
    "아래는 제가가 선형회귀 결과를 시각화하기 위해서 만든 그래프 함수입니다.\n",
    "\n",
    "자주 사용하는 기능은 함수를 만들어서 모듈화해두면 편하게 사용할 수 있습니다."
   ]
  },
  {
   "cell_type": "code",
   "execution_count": 23,
   "metadata": {
    "collapsed": true
   },
   "outputs": [],
   "source": [
    "def plot_linear(X, Y, lr=None):\n",
    "    import matplotlib.ticker as ticker\n",
    "    width = np.max(X) - np.min(X)\n",
    "    delta = width * 0.05\n",
    "    xmin = np.min(X)-delta\n",
    "    xmax = np.max(X)+delta\n",
    "    fig, ax = plt.subplots(figsize=plt.figaspect(1))\n",
    "    ax.plot(X, Y, 'ro', alpha=0.3)\n",
    "    ax.set_xlim(xmin, xmax)\n",
    "    ax.yaxis.set_major_locator(ticker.AutoLocator())\n",
    "    ax.grid()\n",
    "    if not lr is None:\n",
    "        x_lin = np.linspace(xmin, xmax, 100).reshape(-1,1)\n",
    "        lr.fit(X, Y)\n",
    "        pred = lr.predict(x_lin)\n",
    "        ax.plot(x_lin, pred, 'b-', lw=3, alpha=0.6)"
   ]
  },
  {
   "cell_type": "code",
   "execution_count": 24,
   "metadata": {},
   "outputs": [
    {
     "data": {
      "image/png": "[encoded data removed]",
      "text/plain": [
       "<matplotlib.figure.Figure at 0x95fff98>"
      ]
     },
     "metadata": {},
     "output_type": "display_data"
    }
   ],
   "source": [
    "plot_linear(x, y, lr=lr)\n",
    "plt.show()"
   ]
  },
  {
   "cell_type": "markdown",
   "metadata": {},
   "source": [
    "## 오류에 대한 평가\n",
    "\n",
    "예측값과 실제값이 얼마나 가까운지를 판단하는 기준으로 mean squared error 를 배웠습니다.  예측값과 실제값의 차이의 제곱에 대한 평균값입니다.\n",
    "\n",
    "먼저 이 계산부터 해보겠습니다."
   ]
  },
  {
   "cell_type": "code",
   "execution_count": 26,
   "metadata": {},
   "outputs": [
    {
     "name": "stdout",
     "output_type": "stream",
     "text": [
      "Mean squared error : 43.6\n"
     ]
    }
   ],
   "source": [
    "from sklearn.metrics import mean_squared_error\n",
    "\n",
    "mse = mean_squared_error(y, y_predicted)\n",
    "print(\"Mean squared error : {:.3}\".format(mse))"
   ]
  },
  {
   "cell_type": "markdown",
   "metadata": {},
   "source": [
    "조금 더 해석하기 쉬운 수치는 Root Mean Squared Error 입니다."
   ]
  },
  {
   "cell_type": "code",
   "execution_count": 27,
   "metadata": {},
   "outputs": [
    {
     "name": "stdout",
     "output_type": "stream",
     "text": [
      "Root Mean Squared Error : 6.6\n"
     ]
    }
   ],
   "source": [
    "rmse = np.sqrt(mse)\n",
    "print(\"Root Mean Squared Error : {:.3}\".format(rmse))"
   ]
  },
  {
   "cell_type": "markdown",
   "metadata": {},
   "source": [
    "## RMSE 에 대한 해석"
   ]
  },
  {
   "cell_type": "markdown",
   "metadata": {},
   "source": [
    "정규분포에서는 평균값을 중심으포 표준편차의 2배의 범위에 샘플이 존재할 확률이 95% 가량 됩니다. 위 보스톤 집 가격 샘플에서도 회귀직선에서 6.6 * 2 = 13.2 정도의 오차 범위에서 합리적인 예측이 가능하다고 이야기할 수 있습니다.\n",
    "\n",
    "집 가격을 나타내는 단위는 1000 달려이므로 13.200 달러 정도의 오차를 예상할 수 있다고 해석합니다."
   ]
  },
  {
   "cell_type": "markdown",
   "metadata": {},
   "source": [
    "## 결정 계수 coefiicient of determination\n",
    "\n",
    "RMSE 수치가 0 에 가까울 수록 정확하게 예측한 것이지만 실제로는 그런 일은 없습니다.\n",
    "\n",
    "RMSE 의 절대적인 수치만으로 모델을 정확도를 해석하기는 어렵습니다.\n",
    "\n",
    "다른 해석방법 중의 하나는 coefficient of determination 을 계산하는 것입니다.\n",
    "\n",
    "이 방법에서는 모든 입력값에 대해서 타겟값(y)의 산술평균을 예측하는 null model 의 표준편차와 회귀 모델에 의한 표준편차를 비교합니다.\n",
    "\n",
    "완벽한 회귀 모델에서는 이 값은 1이고, null model 에서는 0 이 됩니다.\n",
    "\n",
    "null model 보다 성능이 안 좋은 모델에서는 이 값이 음수가 되기도 합니다.\n",
    "\n",
    "$1 - \\frac{\\sum (y_i - \\hat{y_i})^2}{\\sum (y_i - \\bar{y_i})^2}$\n",
    "\n",
    "이 결정계수는 sklearn.metrics 모듈의 r2_score 함수를 사용하거나  LinearRegression 클래스의 score 메쏘드를 사욯하고  $R^2$점수라고 부릅니다."
   ]
  },
  {
   "cell_type": "code",
   "execution_count": 28,
   "metadata": {},
   "outputs": [
    {
     "name": "stdout",
     "output_type": "stream",
     "text": [
      "R2 socre (train) : 0.48\n"
     ]
    }
   ],
   "source": [
    "from sklearn.metrics import r2_score\n",
    "\n",
    "r2 = r2_score(y, lr.predict(x))\n",
    "print('R2 socre (train) : {:.2}'.format(r2))"
   ]
  },
  {
   "cell_type": "markdown",
   "metadata": {},
   "source": [
    "## 다차원 회귀\n",
    "\n",
    "이번에는 원래 데이터의 모든 피처를 사용해서 분류기의 성능을 높여보겠습니다."
   ]
  },
  {
   "cell_type": "code",
   "execution_count": 29,
   "metadata": {},
   "outputs": [
    {
     "data": {
      "text/plain": [
       "13"
      ]
     },
     "execution_count": 29,
     "metadata": {},
     "output_type": "execute_result"
    }
   ],
   "source": [
    "len(boston.feature_names)"
   ]
  },
  {
   "cell_type": "markdown",
   "metadata": {},
   "source": [
    "총 13개의 피처입니다."
   ]
  },
  {
   "cell_type": "code",
   "execution_count": 30,
   "metadata": {
    "collapsed": true
   },
   "outputs": [],
   "source": [
    "x = boston.data\n",
    "y = boston.target\n",
    "lr = LinearRegression().fit(x, y)\n"
   ]
  },
  {
   "cell_type": "code",
   "execution_count": 31,
   "metadata": {},
   "outputs": [
    {
     "name": "stdout",
     "output_type": "stream",
     "text": [
      "R2 socre (train) : 0.74\n"
     ]
    }
   ],
   "source": [
    "r2 = r2_score(y, lr.predict(x))\n",
    "print('R2 socre (train) : {:.2}'.format(r2))"
   ]
  },
  {
   "cell_type": "markdown",
   "metadata": {},
   "source": [
    " R2 점수가 0.74로 높아졌습니다.   1에 가까울 수록 정확한 예측을 한 것입니다."
   ]
  },
  {
   "cell_type": "markdown",
   "metadata": {},
   "source": [
    "## 교차 검증\n",
    "\n",
    "지금까지 실습한 회귀에 대한 평가에 훈련시킨 데이터를 그대로 사용했습니다.\n",
    "\n",
    "이 경우 overfitting 은 문제가 생깁니다.  새로운 데이터에 대해서는 모델의 일반화 능력이 떨어진다는 의미입니다.\n",
    "\n",
    "그래서 보통 데이터셋을 훈련용 데이터와 테스트용 데이터로 나눠서 테스트 데이터를 모델 평가용으로 사용합니다.\n",
    "\n",
    "사이킷런에서는 n-fold 교차 검증을 지원하기 위한 sklearn.cross_validation.Kforld 클래스를 제공합니다.   데이터를 랜덤하게 n 개의 조각으로 나눠서 각 조각 하니씩을 테스트용으로 나머지 조각을 훈련용으로 사용하게 합니다.\n",
    "\n",
    "\n",
    "아래가 그 활용예입니다."
   ]
  },
  {
   "cell_type": "code",
   "execution_count": 54,
   "metadata": {},
   "outputs": [
    {
     "name": "stdout",
     "output_type": "stream",
     "text": [
      "RMSE on 5-fold CV : 6.1\n"
     ]
    }
   ],
   "source": [
    "from sklearn.model_selection import KFold\n",
    "lr = LinearRegression()\n",
    "kf = KFold(n_splits=5, shuffle=False)\n",
    "pred = np.zeros_like(y)\n",
    "\n",
    "for train_idx, test_idx in kf.split(x):\n",
    "    lr.fit(x[train_idx], y[train_idx])\n",
    "    pred[test_idx] = lr.predict(x[test_idx])\n",
    "\n",
    "rmse_cv = np.sqrt(mean_squared_error(y, pred))\n",
    "print('RMSE on 5-fold CV : {:.2}'.format(rmse_cv))"
   ]
  },
  {
   "cell_type": "markdown",
   "metadata": {},
   "source": [
    "## Regularization\n",
    "\n",
    "Penalized regression 또는 Regularized regression 라고 부르는 overfitting 을 방지하기 위한 방법이 있습니다.\n",
    "\n",
    "기본 아이디어는 각 피처의 파라미터(가중치)가 크면 클 수록 벌점을 주어서 어느정도 작게 만드는 것입니다.\n",
    "\n",
    "벌점을 부과하는 방법에는 L1 과 L2 두 가지 방법이 있고 각각의 방법에 따라서 Lasso 회귀, Ridge 회귀라고 구분해서 부릅니다.\n",
    "\n",
    "L1 에서는 가중치의 절대값에 비례해서 벌점을 부과하는 것이고,\n",
    "\n",
    "L2 에서는 가중치의 제곱에 비례해서 벌점을 부과합니다.\n",
    "\n",
    "이 두가지 방법을 섞은 ElasticNet 클래스를 사이킷런에서 사용할 수도 있습니다.\n",
    "\n",
    "Lasso 회귀에서는 일부 피처의 가중치를 0으로 만들기 때문에 일부 피처를 골라는 feature selection 기능도 수행합니다.\n",
    "\n",
    "Lasso 와 Ridge 모두 모델을 만들 떄 얼마나 패널티를 부과할지에 대한 상수를 alpha 라는 인자로 넣습니다. \n",
    "\n",
    "알파값이 클 수록 모델의 일반화 정도가 커지고 알파가 0 이라면 앞서 실습한 모델과 같아집니다.\n",
    "\n"
   ]
  },
  {
   "cell_type": "markdown",
   "metadata": {},
   "source": [
    "## Lasso 회귀의 가중치 시각화"
   ]
  },
  {
   "cell_type": "code",
   "execution_count": 57,
   "metadata": {
    "collapsed": true
   },
   "outputs": [],
   "source": [
    "from sklearn.linear_model import Lasso\n",
    "from sklearn.linear_model import lasso_path\n",
    "\n",
    "lasso = Lasso(normalize=True)\n",
    "alphas = np.logspace(-5,2,1000)\n",
    "alphas, coefs, _ = lasso.path(x, y, alphas=alphas)\n"
   ]
  },
  {
   "cell_type": "code",
   "execution_count": 65,
   "metadata": {},
   "outputs": [
    {
     "data": {
      "image/png": "[encoded data removed]",
      "text/plain": [
       "<matplotlib.figure.Figure at 0xb283cf8>"
      ]
     },
     "metadata": {},
     "output_type": "display_data"
    }
   ],
   "source": [
    "fig, ax = plt.subplots(dpi=64, figsize=(10,8))\n",
    "ax.plot(alphas, coefs.T)\n",
    "ax.set_xscale('log')\n",
    "ax.set_xlim(alphas.max(), alphas.min())\n",
    "plt.show()"
   ]
  },
  {
   "cell_type": "markdown",
   "metadata": {},
   "source": [
    "## 그래프 해석\n",
    "\n",
    "위 그래프의 13개의 선은 입력 데이터의 13개의 피처에 해당합니다.\n",
    "\n",
    "벌점을 크게 부여할 수록 모든 가중치는 0 에 가까워집니다.\n",
    "\n",
    "모든 그래프 범위에서 가중치가 거의 0 에 가까운 피처들이 있습니다.\n",
    "\n",
    "집 가격에 영향을 안 주는 피처들로 해석합니다.\n",
    "\n",
    "위 그래프를 각 alpha 값에서  유요한 수치 이상의 가중치의 갯수가 Lasso 회귀에 실질적으로 사용된다고 해석할 수 있습니다.\n",
    "\n",
    "예를 들어 위의 그래프에서 보면 alpha 가 1 인 경우에는 2 개의 피처만 사용해서 회귀를 합니다.\n",
    "\n"
   ]
  },
  {
   "cell_type": "markdown",
   "metadata": {},
   "source": [
    "## 파라미터 튜닝\n",
    "\n",
    "이번 노트에서의 실습 목적은 선형회귀와 패널치를 부과한 회귀의 연습입니다.\n",
    "\n",
    "파라미터 튜닝을 할 때는 교차검증 데이터셋을 따로 지정을해야하지만 이번 실습의 목적과는 거리가 있으므로 다음에 다둬보기로 하고 전체 데이터를 overfitting 을 감한하고 파라미터 튜닝을 해보겠습니다.\n",
    "\n",
    "아래는 Lasso 회귀에서 어떤 alpha 값을 주어야지 더 정확한 예측값을 얻을 수 있을지에 대한 코드입니다."
   ]
  },
  {
   "cell_type": "code",
   "execution_count": 67,
   "metadata": {},
   "outputs": [
    {
     "data": {
      "text/plain": [
       "LassoCV(alphas=array([  1.00000e-05,   5.99484e-05,   3.59381e-04,   2.15443e-03,\n",
       "         1.29155e-02,   7.74264e-02,   4.64159e-01,   2.78256e+00,\n",
       "         1.66810e+01,   1.00000e+02]),\n",
       "    copy_X=True, cv=None, eps=0.001, fit_intercept=True, max_iter=1000,\n",
       "    n_alphas=100, n_jobs=1, normalize=False, positive=False,\n",
       "    precompute='auto', random_state=None, selection='cyclic', tol=0.0001,\n",
       "    verbose=False)"
      ]
     },
     "execution_count": 67,
     "metadata": {},
     "output_type": "execute_result"
    }
   ],
   "source": [
    "from sklearn.linear_model import LassoCV\n",
    "alphas = np.logspace(-5,2,10)\n",
    "lasso_cv = LassoCV(alphas=alphas)\n",
    "lasso_cv.fit(x, y)"
   ]
  },
  {
   "cell_type": "code",
   "execution_count": 73,
   "metadata": {},
   "outputs": [
    {
     "data": {
      "text/plain": [
       "0.4641588833612782"
      ]
     },
     "execution_count": 73,
     "metadata": {},
     "output_type": "execute_result"
    }
   ],
   "source": [
    "lasso_cv.alpha_"
   ]
  },
  {
   "cell_type": "markdown",
   "metadata": {},
   "source": [
    "교차 검증에서는 1e-5 부터 1e2 까지의 범위를 로그 스케일로 10개의 위치를 지정해서 alpha 값으로 사용했습니다.\n",
    "\n",
    "그 결과는 alpha = 0.46 정도 일때 Lasso 모델에서 가장 좋은 성능을 보였습니다."
   ]
  },
  {
   "cell_type": "code",
   "execution_count": 75,
   "metadata": {},
   "outputs": [
    {
     "name": "stdout",
     "output_type": "stream",
     "text": [
      "R2 socre (lasso_cv) : 0.72\n"
     ]
    }
   ],
   "source": [
    "r2 = r2_score(y, lasso_cv.predict(x))\n",
    "print('R2 socre (lasso_cv) : {:.2}'.format(r2))"
   ]
  },
  {
   "cell_type": "markdown",
   "metadata": {},
   "source": [
    "이번에도 R2 값을 계산해봤습니다.  모든 피철르 사용하고 alpha 가 0 인 경우에는 0.74 였습니다. 이 보다는 적확도는 약간 떨어졌는데, 패널티를 부과한 모델이므로 납득이 가는 결과입니다."
   ]
  }
 ],
 "metadata": {
  "kernelspec": {
   "display_name": "Python 3",
   "language": "python",
   "name": "python3"
  },
  "language_info": {
   "codemirror_mode": {
    "name": "ipython",
    "version": 3
   },
   "file_extension": ".py",
   "mimetype": "text/x-python",
   "name": "python",
   "nbconvert_exporter": "python",
   "pygments_lexer": "ipython3",
   "version": "3.6.1"
  }
 },
 "nbformat": 4,
 "nbformat_minor": 2
}
